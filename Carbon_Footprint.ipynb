{
 "cells": [
  {
   "cell_type": "code",
   "execution_count": 1,
   "metadata": {
    "scrolled": true
   },
   "outputs": [
    {
     "name": "stdout",
     "output_type": "stream",
     "text": [
      "How many people live in your house:8\n",
      "Ok!!! 8 people live in your house right\n",
      "              Type Household_size Unit  per_day  Co2_Factors  \\\n",
      "State                                                          \n",
      "VIC    Electricity             5+  kWh    25.53         1.90   \n",
      "VIC            Gas             5+   MJ   195.03         0.06   \n",
      "VIC          Water             5+   Kl     0.68         1.36   \n",
      "VIC          Waste             5+   Kg     7.00         1.10   \n",
      "\n",
      "       Co2_absobed_by_1_tree_(kg/day)  Co2_offset_(day)  \n",
      "State                                                    \n",
      "VIC                              0.06            841.92  \n",
      "VIC                              0.06            187.22  \n",
      "VIC                              0.06             16.12  \n",
      "VIC                              0.06            133.83  \n",
      " HELPFUL DATA: Above you can see the average of all the utilities, water and waste your house may produce\n",
      "How much electricity do you think your house consume:25\n",
      "Ok!!! Your household consume 25 kWh of electricity\n",
      "How much gas do you think your house consume:150\n",
      "Ok!!! Your household consume 150 MJ of gas\n",
      "How much Water do you think your house consume:2\n",
      "Ok!!! Your household consume 2 Kl of Water\n",
      "How much Waste do you think your house consume:1\n",
      "Ok!!! Your household consume 1 Kg of Waste\n",
      "Damn!!! Your household produces 60Kg of CO2 per day\n",
      "And do you know to offset this much Co2 1005 tree are required\n"
     ]
    }
   ],
   "source": [
    "import pandas as pd\n",
    "url = 'https://raw.githubusercontent.com/pratik0510-p/TE10-Zombean-EcoGhar/main/GHG_filters.csv?token=AVHUGECBW43N23ZPBYLQILLBHQ2FY'\n",
    "data = pd.read_csv(url,index_col=0)\n",
    "Household_size = input(\"How many people live in your house:\")\n",
    "print(\"Ok!!! \" + Household_size + \" people live in your house right\")\n",
    "if int(Household_size) > 4:\n",
    "  Household_size = \"5+\"\n",
    "temp_Data = data.loc[data['Household_size'] == Household_size]\n",
    "viz_Data = data.loc[data['Household_size'] == Household_size]\n",
    "temp_Data = temp_Data[[\"Type\",\"Household_size\",\"Unit\",\"per_day\",\"Co2_Factors\",\"Co2_absobed_by_1_tree_(kg/day)\",\"Co2_offset_(day)\"]]\n",
    "viz_Data = viz_Data[[\"Type\",\"Household_size\",\"Unit\",\"Co2_Factors\"]]\n",
    "print(temp_Data)\n",
    "print(\" HELPFUL DATA: Above you can see the average of all the utilities, water and waste your house may produce\")\n",
    "amt_electricity = input(\"How much electricity do you think your house consume:\")\n",
    "print(\"Ok!!! Your household consume \" + amt_electricity + \" kWh of electricity\")\n",
    "amt_gas = input(\"How much gas do you think your house consume:\")\n",
    "print(\"Ok!!! Your household consume \" + amt_gas + \" MJ of gas\")\n",
    "amt_Water = input(\"How much Water do you think your house consume:\")\n",
    "print(\"Ok!!! Your household consume \" + amt_Water + \" Kl of Water\")\n",
    "amt_Waste = input(\"How much Waste do you think your house consume:\")\n",
    "print(\"Ok!!! Your household consume \" + amt_Waste + \" Kg of Waste\")\n",
    "Carbon_footprint = (float(amt_electricity) * float(viz_Data.iloc[0,3])) + (float(amt_gas) * float(viz_Data.iloc[1,3]))+ (float(amt_Water) * float(viz_Data.iloc[2,3]))+ (float(amt_Waste) * float(viz_Data.iloc[3,3]))\n",
    "print(\"Damn!!! Your household produces \" + str(int(Carbon_footprint)) + \"Kg of CO2 per day\")\n",
    "print(\"And do you know to offset this much Co2 \" + str(int(Carbon_footprint/0.06)) + \" tree are required\")"
   ]
  },
  {
   "cell_type": "code",
   "execution_count": null,
   "metadata": {},
   "outputs": [],
   "source": []
  },
  {
   "cell_type": "code",
   "execution_count": null,
   "metadata": {},
   "outputs": [],
   "source": []
  }
 ],
 "metadata": {
  "kernelspec": {
   "display_name": "Python 3",
   "language": "python",
   "name": "python3"
  },
  "language_info": {
   "codemirror_mode": {
    "name": "ipython",
    "version": 3
   },
   "file_extension": ".py",
   "mimetype": "text/x-python",
   "name": "python",
   "nbconvert_exporter": "python",
   "pygments_lexer": "ipython3",
   "version": "3.7.4"
  }
 },
 "nbformat": 4,
 "nbformat_minor": 2
}
